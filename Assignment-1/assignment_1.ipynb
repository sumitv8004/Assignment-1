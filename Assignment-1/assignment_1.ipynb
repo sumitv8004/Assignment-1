{
 "cells": [
  {
   "cell_type": "markdown",
   "id": "449d3721-5527-45ab-820d-269c89e2f2e0",
   "metadata": {},
   "source": [
    "*Q1. Create one variable containing following type of data:*"
   ]
  },
  {
   "cell_type": "markdown",
   "id": "35de2b9e-5593-46aa-882d-77c40a6c41e7",
   "metadata": {},
   "source": [
    "***(i) String***"
   ]
  },
  {
   "cell_type": "code",
   "execution_count": 1,
   "id": "3c5916a1-00fc-488a-967d-7174c690c32e",
   "metadata": {},
   "outputs": [
    {
     "name": "stdout",
     "output_type": "stream",
     "text": [
      "<class 'str'>\n"
     ]
    }
   ],
   "source": [
    "var='sumit verma'\n",
    "print(type(var))"
   ]
  },
  {
   "cell_type": "markdown",
   "id": "43842adf-8ae5-4905-b9dc-b599815988ef",
   "metadata": {},
   "source": [
    "***(ii) List***"
   ]
  },
  {
   "cell_type": "code",
   "execution_count": 2,
   "id": "fd7ec541-1005-4798-ad51-14246a53760d",
   "metadata": {},
   "outputs": [
    {
     "name": "stdout",
     "output_type": "stream",
     "text": [
      "<class 'list'>\n"
     ]
    }
   ],
   "source": [
    "var1=[3,5,1]\n",
    "print(type(var1))"
   ]
  },
  {
   "cell_type": "markdown",
   "id": "2d341cd7-59a4-4b2b-9444-61de26c27e36",
   "metadata": {},
   "source": [
    "***(iii)Float***"
   ]
  },
  {
   "cell_type": "code",
   "execution_count": 3,
   "id": "77ee4be8-a52f-43e4-8758-344825d774c7",
   "metadata": {},
   "outputs": [
    {
     "name": "stdout",
     "output_type": "stream",
     "text": [
      "<class 'float'>\n"
     ]
    }
   ],
   "source": [
    "var2=4.6\n",
    "print(type(var2))"
   ]
  },
  {
   "cell_type": "markdown",
   "id": "54605a8b-54c7-43fa-bd07-b3e6f141493a",
   "metadata": {},
   "source": [
    "***(iv) Tuple***"
   ]
  },
  {
   "cell_type": "code",
   "execution_count": 4,
   "id": "e2bf884e-b58c-45e2-bad7-2cedeba62fc1",
   "metadata": {},
   "outputs": [
    {
     "name": "stdout",
     "output_type": "stream",
     "text": [
      "<class 'tuple'>\n"
     ]
    }
   ],
   "source": [
    "var3=(3,5,7)\n",
    "print(type(var3))"
   ]
  },
  {
   "cell_type": "markdown",
   "id": "b23eec6c-b530-4c23-8982-bf85c729544c",
   "metadata": {},
   "source": [
    "***Q2. Given are some following variables containing data:\n",
    "        What will be the data type of the given variables.***"
   ]
  },
  {
   "cell_type": "markdown",
   "id": "c575fe0e-03ea-4fd3-9462-21d2040badf0",
   "metadata": {},
   "source": [
    "***(i) var1 = ‘ ‘***"
   ]
  },
  {
   "cell_type": "code",
   "execution_count": 5,
   "id": "5e09a41a-148a-4ac0-9d56-5ae0b59bdaba",
   "metadata": {},
   "outputs": [
    {
     "name": "stdout",
     "output_type": "stream",
     "text": [
      "<class 'str'>\n"
     ]
    }
   ],
   "source": [
    "var1=''\n",
    "print(type(var1))"
   ]
  },
  {
   "cell_type": "markdown",
   "id": "315f2724-7d27-45dc-8cda-52d2d8779dfa",
   "metadata": {},
   "source": [
    "***(ii)\tvar2 = ‘[ DS , ML , Python]’***"
   ]
  },
  {
   "cell_type": "code",
   "execution_count": 6,
   "id": "2480ab37-c938-4110-8fa6-3af48adb0674",
   "metadata": {},
   "outputs": [
    {
     "name": "stdout",
     "output_type": "stream",
     "text": [
      "<class 'str'>\n"
     ]
    }
   ],
   "source": [
    "var2 = '[ DS , ML , Python]'\n",
    "print(type(var2))"
   ]
  },
  {
   "cell_type": "markdown",
   "id": "40c0c474-12d5-49cb-b652-d4d43d1fc0d6",
   "metadata": {},
   "source": [
    "***(iii) var3 = ['DS', 'ML' , 'Python' ]***"
   ]
  },
  {
   "cell_type": "code",
   "execution_count": 7,
   "id": "77422154-8c6d-4f21-a91f-b38db3097455",
   "metadata": {},
   "outputs": [
    {
     "name": "stdout",
     "output_type": "stream",
     "text": [
      "<class 'list'>\n"
     ]
    }
   ],
   "source": [
    "var3=['DS','ML','PYTHON']\n",
    "print(type(var3))"
   ]
  },
  {
   "cell_type": "markdown",
   "id": "6479a10f-6c7b-4830-85ff-e06c3914e360",
   "metadata": {},
   "source": [
    "***(iv)\tvar4 = 1.***"
   ]
  },
  {
   "cell_type": "code",
   "execution_count": 13,
   "id": "fd044f23-a288-4966-8623-e48b640a16bc",
   "metadata": {},
   "outputs": [
    {
     "name": "stdout",
     "output_type": "stream",
     "text": [
      "<class 'float'>\n"
     ]
    }
   ],
   "source": [
    "var4=1.\n",
    "print(type(var4))"
   ]
  },
  {
   "cell_type": "markdown",
   "id": "fc552ec2-93da-49bd-b959-1abbaf28f7f8",
   "metadata": {},
   "source": [
    "***Q3. Explain the use of the following operators using an example:***"
   ]
  },
  {
   "cell_type": "markdown",
   "id": "d8b376fa-eb95-4f88-8605-7acd3caee245",
   "metadata": {},
   "source": [
    "***(i) /***"
   ]
  },
  {
   "cell_type": "markdown",
   "id": "3e5a2db7-d344-4729-bbda-5e4a3ee47e1f",
   "metadata": {},
   "source": [
    "*Ans:- / is known as division operator.It is used for the division , It gives the exact division result in floating numbers. for ex:-*"
   ]
  },
  {
   "cell_type": "code",
   "execution_count": 16,
   "id": "ab2866e1-51f7-4434-a9c3-e53ca77d6d99",
   "metadata": {},
   "outputs": [
    {
     "name": "stdout",
     "output_type": "stream",
     "text": [
      "2.5\n"
     ]
    }
   ],
   "source": [
    "x=5/2       #Here x has a value which is obtain from the division of 5 by 2 i.e. 2.5\n",
    "print(x)"
   ]
  },
  {
   "cell_type": "markdown",
   "id": "4f9054c0-38c5-4257-90b6-0cfd5c98f58f",
   "metadata": {},
   "source": [
    "***(ii) %***"
   ]
  },
  {
   "cell_type": "markdown",
   "id": "080aae1f-9c16-408c-993f-ae8f93e50058",
   "metadata": {},
   "source": [
    "*Ans:- % is known as modulus operator.It is used to get the remainder of the division. for ex:-*"
   ]
  },
  {
   "cell_type": "code",
   "execution_count": 18,
   "id": "cbceb8fa-15cd-4d31-877b-1c5e6a884080",
   "metadata": {},
   "outputs": [
    {
     "name": "stdout",
     "output_type": "stream",
     "text": [
      "1\n"
     ]
    }
   ],
   "source": [
    "x=5%2       #Here x gives the remainder when we divide 5 by 2 i.e. 1 \n",
    "print(x)"
   ]
  },
  {
   "cell_type": "markdown",
   "id": "dc3be0ee-f97d-47e4-b058-6cd3d91886d3",
   "metadata": {},
   "source": [
    "***(iii) //***"
   ]
  },
  {
   "cell_type": "markdown",
   "id": "689ebff3-050b-4604-8770-a02b90c552d5",
   "metadata": {},
   "source": [
    "*Ans:- '//' is known as double slash operator , it is used for the floor division of the values which means it gives the quotient in integer value. for ex:-*"
   ]
  },
  {
   "cell_type": "code",
   "execution_count": 20,
   "id": "44facd72-8bef-4887-98d7-03cbc3d68c6a",
   "metadata": {},
   "outputs": [
    {
     "name": "stdout",
     "output_type": "stream",
     "text": [
      "2\n"
     ]
    }
   ],
   "source": [
    "y=5//2     # Here y gives the quotient in integer value which means it does not contain decimal value(floating value) i.e. 2\n",
    "print(y)"
   ]
  },
  {
   "cell_type": "markdown",
   "id": "02c44b6c-bf4c-4b52-b7c4-22451064ee4f",
   "metadata": {},
   "source": [
    "***(iv)*****"
   ]
  },
  {
   "cell_type": "markdown",
   "id": "97489723-6412-4c6e-b7c2-1cd5aeff3d48",
   "metadata": {},
   "source": [
    "*Ans:- ** is known as power or exponential operator . it performs the exponential calculation. for ex:-*"
   ]
  },
  {
   "cell_type": "code",
   "execution_count": 23,
   "id": "2d6741a6-1795-4dcf-a4d8-ff324df60193",
   "metadata": {},
   "outputs": [
    {
     "name": "stdout",
     "output_type": "stream",
     "text": [
      "8\n"
     ]
    }
   ],
   "source": [
    "z=2**3     # here z gives exponential value i.e. 8 (2*2*2)\n",
    "print(z)"
   ]
  },
  {
   "cell_type": "markdown",
   "id": "fab21fcd-4667-47df-9b63-914c9abba007",
   "metadata": {},
   "source": [
    "***Q4. Create a list of length 10 of your choice containing multiple types of data. Using for loop print the \n",
    "element and its data type.\n",
    "Ans:-***"
   ]
  },
  {
   "cell_type": "code",
   "execution_count": 25,
   "id": "f392eef1-ca3c-4a84-94f2-c666c82fdab2",
   "metadata": {},
   "outputs": [
    {
     "name": "stdout",
     "output_type": "stream",
     "text": [
      "lenth of the list is: 10\n",
      "value=2\n",
      "Type of the value is: <class 'int'>\n",
      "\n",
      "value=2.4\n",
      "Type of the value is: <class 'float'>\n",
      "\n",
      "value=sumit\n",
      "Type of the value is: <class 'str'>\n",
      "\n",
      "value=True\n",
      "Type of the value is: <class 'bool'>\n",
      "\n",
      "value=[3, 4]\n",
      "Type of the value is: <class 'list'>\n",
      "\n",
      "value=(4, 6)\n",
      "Type of the value is: <class 'tuple'>\n",
      "\n",
      "value={8, 3}\n",
      "Type of the value is: <class 'set'>\n",
      "\n",
      "value=verma\n",
      "Type of the value is: <class 'str'>\n",
      "\n",
      "value=4\n",
      "Type of the value is: <class 'int'>\n",
      "\n",
      "value=5.8\n",
      "Type of the value is: <class 'float'>\n",
      "\n"
     ]
    }
   ],
   "source": [
    "\tl=[2,2.4,'sumit',True,[3,4],(4,6),{3,8},\"verma\",4,5.8]\n",
    "\tprint(f\"lenth of the list is: {len(l)}\")\n",
    "\tfor i in l:\n",
    "\t    print(f'value={i}')\n",
    "\t    print(f\"Type of the value is: {type(i)}\\n\")"
   ]
  },
  {
   "cell_type": "markdown",
   "id": "d44c1cfb-d1c1-4e70-a68a-274c3bc51601",
   "metadata": {},
   "source": [
    "***Q5. Using a while loop, verify if the number A is purely divisible by number B and if so then how many \n",
    "times it can be divisible.\n",
    "Ans:-***"
   ]
  },
  {
   "cell_type": "code",
   "execution_count": 26,
   "id": "8038ae13-cad5-4854-a691-f996119b31e0",
   "metadata": {},
   "outputs": [
    {
     "name": "stdout",
     "output_type": "stream",
     "text": [
      "Enter value of A:  50\n",
      "Enter value of B:  2\n"
     ]
    },
    {
     "name": "stdout",
     "output_type": "stream",
     "text": [
      "Number is divisible by 25 times\n"
     ]
    }
   ],
   "source": [
    "\ta=int(input(\"Enter value of A: \"))\n",
    "\tb=int(input(\"Enter value of B: \"))\n",
    "\ti=0\n",
    "\tif a%b==0:\n",
    "    \t\twhile a>0:\n",
    "        \t\ta=a-b\n",
    "        \t\ti=i+1\n",
    "    \t\tprint(f'Number is divisible by {i} times')\n",
    "\telse:\n",
    "    \t\tprint('A is not divisible by B')"
   ]
  },
  {
   "cell_type": "markdown",
   "id": "1ec19266-d0f2-4d3c-807a-b3aebc7eabf0",
   "metadata": {},
   "source": [
    "***Q6. Create a list containing 25 int type data. Using for loop and if-else condition print if the element is \n",
    "divisible by 3 or not***"
   ]
  },
  {
   "cell_type": "markdown",
   "id": "00071b53-10e5-4f99-979d-5b4bd56ccd70",
   "metadata": {},
   "source": [
    "***Ans:-***"
   ]
  },
  {
   "cell_type": "code",
   "execution_count": 30,
   "id": "57922f7f-bdd7-401d-b275-694e789cb305",
   "metadata": {},
   "outputs": [
    {
     "name": "stdout",
     "output_type": "stream",
     "text": [
      "1 is not divisible by 3\n",
      "2 is not divisible by 3\n",
      "3 is divisible by 3\n",
      "4 is not divisible by 3\n",
      "5 is not divisible by 3\n",
      "6 is divisible by 3\n",
      "7 is not divisible by 3\n",
      "8 is not divisible by 3\n",
      "9 is divisible by 3\n",
      "10 is not divisible by 3\n",
      "11 is not divisible by 3\n",
      "12 is divisible by 3\n",
      "13 is not divisible by 3\n",
      "14 is not divisible by 3\n",
      "15 is divisible by 3\n",
      "16 is not divisible by 3\n",
      "17 is not divisible by 3\n",
      "18 is divisible by 3\n",
      "19 is not divisible by 3\n",
      "20 is not divisible by 3\n",
      "21 is divisible by 3\n",
      "22 is not divisible by 3\n",
      "23 is not divisible by 3\n",
      "24 is divisible by 3\n",
      "25 is not divisible by 3\n"
     ]
    }
   ],
   "source": [
    "\tl=[1,2,3,4,5,6,7,8,9,10,11,12,13,14,15,16,17,18,19,20,21,22,23,24,25]\n",
    "\tfor i in l:\n",
    "    \tif i%3==0:\n",
    "            print(f'{i} is divisible by 3')\n",
    "    \telse:\n",
    "            print(f'{i} is not divisible by 3')"
   ]
  },
  {
   "cell_type": "markdown",
   "id": "d2d950f2-5bef-4b1e-864b-ad3fd87ecbd7",
   "metadata": {},
   "source": [
    "***Q7. What do you understand about mutable and immutable data types? Give examples for both showing \n",
    "this property.***"
   ]
  },
  {
   "cell_type": "markdown",
   "id": "8db3e01b-f9fc-4cb7-b8e5-d32ecb772d50",
   "metadata": {},
   "source": [
    "***Ans:-***"
   ]
  },
  {
   "cell_type": "markdown",
   "id": "d6729027-6220-4143-bca6-960c99ae3039",
   "metadata": {},
   "source": [
    "*Mutable: when the object allows you to change its value that type of object are called mutable object.\n",
    "\t          for ex - list are mutable it allows to change its values*"
   ]
  },
  {
   "cell_type": "code",
   "execution_count": 31,
   "id": "9b184b78-8922-4e44-8904-cc2ea363033f",
   "metadata": {},
   "outputs": [
    {
     "name": "stdout",
     "output_type": "stream",
     "text": [
      "[2, 4, 9, 7, 3]\n"
     ]
    }
   ],
   "source": [
    "a=[2,4,5,7,3]\n",
    "a[2]=9\n",
    "print(a)       #a[2] will be changed in the output i.e. [2,4,9,7,3]\n"
   ]
  },
  {
   "cell_type": "markdown",
   "id": "2f2bc2c3-68b9-4b56-8e00-be0219a12e33",
   "metadata": {},
   "source": [
    "*Immutable: Those type of object which doesn`t allows you to change its value are called immutable object.\n",
    "\t          for ex - tuple are immutable it does not allows you to change its value after declaration.*"
   ]
  },
  {
   "cell_type": "code",
   "execution_count": 33,
   "id": "20b1143d-e821-48cc-9658-7ad2d9395983",
   "metadata": {},
   "outputs": [
    {
     "ename": "TypeError",
     "evalue": "'tuple' object does not support item assignment",
     "output_type": "error",
     "traceback": [
      "\u001b[0;31m---------------------------------------------------------------------------\u001b[0m",
      "\u001b[0;31mTypeError\u001b[0m                                 Traceback (most recent call last)",
      "Cell \u001b[0;32mIn[33], line 2\u001b[0m\n\u001b[1;32m      1\u001b[0m a\u001b[38;5;241m=\u001b[39m(\u001b[38;5;241m2\u001b[39m,\u001b[38;5;241m4\u001b[39m,\u001b[38;5;241m5\u001b[39m,\u001b[38;5;241m7\u001b[39m,\u001b[38;5;241m3\u001b[39m)\n\u001b[0;32m----> 2\u001b[0m \u001b[43ma\u001b[49m\u001b[43m[\u001b[49m\u001b[38;5;241;43m2\u001b[39;49m\u001b[43m]\u001b[49m\u001b[38;5;241m=\u001b[39m\u001b[38;5;241m9\u001b[39m\n\u001b[1;32m      3\u001b[0m \u001b[38;5;28mprint\u001b[39m(a)\t\u001b[38;5;66;03m#a[2] will not change as a is a tuple and it will remain (2,4,5,7,3) \u001b[39;00m\n",
      "\u001b[0;31mTypeError\u001b[0m: 'tuple' object does not support item assignment"
     ]
    }
   ],
   "source": [
    " a=(2,4,5,7,3)\n",
    "a[2]=9\n",
    "print(a)\t#a[2] will not change as a is a tuple and it will remain (2,4,5,7,3) "
   ]
  },
  {
   "cell_type": "code",
   "execution_count": null,
   "id": "2f57b9e0-7e95-4c97-87aa-32a65c4882c3",
   "metadata": {},
   "outputs": [],
   "source": []
  }
 ],
 "metadata": {
  "kernelspec": {
   "display_name": "Python 3 (ipykernel)",
   "language": "python",
   "name": "python3"
  },
  "language_info": {
   "codemirror_mode": {
    "name": "ipython",
    "version": 3
   },
   "file_extension": ".py",
   "mimetype": "text/x-python",
   "name": "python",
   "nbconvert_exporter": "python",
   "pygments_lexer": "ipython3",
   "version": "3.10.8"
  }
 },
 "nbformat": 4,
 "nbformat_minor": 5
}
