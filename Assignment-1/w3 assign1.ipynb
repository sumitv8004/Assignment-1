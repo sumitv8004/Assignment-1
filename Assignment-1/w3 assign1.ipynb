{
 "cells": [
  {
   "cell_type": "markdown",
   "id": "9bfe093d",
   "metadata": {},
   "source": [
    "Q1. Which keyword is used to create a function? Create a function to return a list of odd numbers in the\n",
    "range of 1 to 25."
   ]
  },
  {
   "cell_type": "markdown",
   "id": "2dcde3a6",
   "metadata": {},
   "source": [
    "Ans:- def keyword is used to create a function in python. "
   ]
  },
  {
   "cell_type": "code",
   "execution_count": 1,
   "id": "ea1e5810",
   "metadata": {},
   "outputs": [
    {
     "name": "stdout",
     "output_type": "stream",
     "text": [
      "[1, 3, 5, 7, 9, 11, 13, 15, 17, 19, 21, 23, 25]\n"
     ]
    }
   ],
   "source": [
    "def func():\n",
    "    odd=[]\n",
    "    for i in range(1,26):\n",
    "        if i%2==1:\n",
    "            odd.append(i)\n",
    "    return odd\n",
    "l=func()\n",
    "print(l)"
   ]
  },
  {
   "cell_type": "markdown",
   "id": "a7ed8ee5",
   "metadata": {},
   "source": [
    "Q2. Why *args and **kwargs is used in some functions? Create a function each for *args and **kwargs\n",
    "to demonstrate their use."
   ]
  },
  {
   "cell_type": "markdown",
   "id": "63b6b355",
   "metadata": {},
   "source": [
    " Ans:-  *args is used to take variable number of arguments. for example you have multiples of values to pass to the function then you give *args as a function parameter then it automatically takes the values by itself.\n"
   ]
  },
  {
   "cell_type": "code",
   "execution_count": 2,
   "id": "8f863620",
   "metadata": {},
   "outputs": [
    {
     "name": "stdout",
     "output_type": "stream",
     "text": [
      "sumit\n",
      "verma\n",
      "here\n"
     ]
    }
   ],
   "source": [
    "def func1(*args):\n",
    "    for i in args:\n",
    "        print(i)\n",
    "func1('sumit','verma','here')"
   ]
  },
  {
   "cell_type": "markdown",
   "id": "3c7a8bbe",
   "metadata": {},
   "source": [
    "**kwargs are used when you have multiple pairs of key and value to pass to the function then you use **kwargs as a function parameter "
   ]
  },
  {
   "cell_type": "code",
   "execution_count": 3,
   "id": "5e1615b8",
   "metadata": {},
   "outputs": [
    {
     "name": "stdout",
     "output_type": "stream",
     "text": [
      "Name=sumit \n",
      "Father`s name=jai prakash\n",
      "Name=sarthak \n",
      "Father`s name=anuj\n",
      "Name=ujjwal \n",
      "Father`s name=bhanu\n"
     ]
    }
   ],
   "source": [
    "def func(**kwargs):\n",
    "    for key, value in kwargs.items():\n",
    "        print(f\"Name={key} \\nFather`s name={value}\")\n",
    "\n",
    "func(sumit='jai prakash', sarthak='anuj', ujjwal='bhanu')\n"
   ]
  },
  {
   "cell_type": "markdown",
   "id": "70eb7218",
   "metadata": {},
   "source": [
    "Q3. What is an iterator in python? Name the method used to initialise the iterator object and the method\n",
    "used for iteration. Use these methods to print the first five elements of the given list [2, 4, 6, 8, 10, 12, 14,\n",
    "16, 18, 20]."
   ]
  },
  {
   "cell_type": "markdown",
   "id": "abb3ef74",
   "metadata": {},
   "source": [
    "Ans: An iterator in Python is an object that is used to iterate over iterable objects like lists, tuples, dicts, and sets. The Python iterators object is initialized using the iter() method. It uses the next() method for iteration.\n",
    "\n",
    "__iter__(): The iter() method is called for the initialization of an iterator. This returns an iterator object\n",
    "__next__(): The next method returns the next value for the iterable. When we use a for loop to traverse any iterable object, internally it uses the iter() method to get an iterator object, which further uses the next() method to iterate over. This method raises a StopIteration to signal the end of the iteration.\n",
    "code to iterate first five elements from given list.\n",
    "\n",
    "    "
   ]
  },
  {
   "cell_type": "code",
   "execution_count": 4,
   "id": "a81f1288",
   "metadata": {},
   "outputs": [
    {
     "name": "stdout",
     "output_type": "stream",
     "text": [
      "2\n",
      "4\n",
      "6\n",
      "8\n",
      "10\n"
     ]
    }
   ],
   "source": [
    "a=[2, 4, 6, 8, 10, 12, 14, 16, 18, 20]\n",
    "c=iter(a)\n",
    "i=0\n",
    "while i<5:\n",
    "    b=next(c)\n",
    "    print(b)\n",
    "    i+=1"
   ]
  },
  {
   "cell_type": "markdown",
   "id": "232867cd",
   "metadata": {},
   "source": [
    "Q4.  What is a generator function in python? Why yield keyword is used? Give an example of a generator \n",
    "function."
   ]
  },
  {
   "cell_type": "markdown",
   "id": "639d4fb1",
   "metadata": {},
   "source": [
    "Ans: A generator is a special type of function which does not return a single value, instead, it returns an iterator object with a sequence of values. In a generator function, a yield statement is used rather than a return statement.\n",
    "yield keyword is used to control the flow of generator function .yield returns a value and pauses the execution while maintaining the internal states,"
   ]
  },
  {
   "cell_type": "code",
   "execution_count": 5,
   "id": "952783d3",
   "metadata": {},
   "outputs": [
    {
     "name": "stdout",
     "output_type": "stream",
     "text": [
      "enter the range20\n",
      "[2, 4, 6, 8, 10, 12, 14, 16, 18]\n"
     ]
    }
   ],
   "source": [
    "def gen_func(n):\n",
    "    for i in range(1,n):\n",
    "        if i%2==0:\n",
    "            yield i\n",
    "num=int(input(\"enter the range\"))\n",
    "res=list(gen_func(num))\n",
    "print(res)"
   ]
  },
  {
   "cell_type": "markdown",
   "id": "49cd65fa",
   "metadata": {},
   "source": [
    "Q5. Create a generator function for prime numbers less than 1000. Use the next() method to print the \n",
    "first 20 prime numbers"
   ]
  },
  {
   "cell_type": "code",
   "execution_count": 6,
   "id": "535902ac",
   "metadata": {},
   "outputs": [
    {
     "name": "stdout",
     "output_type": "stream",
     "text": [
      "2\n",
      "3\n",
      "5\n",
      "7\n",
      "11\n",
      "13\n",
      "17\n",
      "19\n",
      "23\n",
      "29\n",
      "31\n",
      "37\n",
      "41\n",
      "43\n",
      "47\n",
      "53\n",
      "59\n",
      "61\n",
      "67\n",
      "71\n"
     ]
    }
   ],
   "source": [
    "def prime_generator():\n",
    "    num = 2\n",
    "    while num < 1000:\n",
    "        if all(num % i != 0 for i in range(2, int(num ** 0.5) + 1)):\n",
    "            yield num\n",
    "        num += 1\n",
    "prime_gen = prime_generator()\n",
    "for _ in range(20):\n",
    "    prime = next(prime_gen)\n",
    "    print(prime)"
   ]
  },
  {
   "cell_type": "markdown",
   "id": "829dca6b",
   "metadata": {},
   "source": [
    "Q6. Write a python program to print the first 10 Fibonacci numbers using a while loop."
   ]
  },
  {
   "cell_type": "code",
   "execution_count": 7,
   "id": "4a6bfa78",
   "metadata": {},
   "outputs": [
    {
     "name": "stdout",
     "output_type": "stream",
     "text": [
      "[0, 1, 1, 2, 3, 5, 8, 13, 21, 34]\n"
     ]
    }
   ],
   "source": [
    "def fib():\n",
    "    i=1\n",
    "    a,b=0,1\n",
    "    while i<11:\n",
    "        yield a\n",
    "        a,b=b,a+b\n",
    "        i+=1\n",
    "f=list(fib())\n",
    "print(f)"
   ]
  },
  {
   "cell_type": "markdown",
   "id": "54307162",
   "metadata": {},
   "source": [
    "Q7. Write a List Comprehension to iterate through the given string: ‘pwskills’.\n",
    "Expected output: ['p', 'w', 's', 'k', 'i', 'l', 'l', 's']"
   ]
  },
  {
   "cell_type": "code",
   "execution_count": 8,
   "id": "e6c8e723",
   "metadata": {},
   "outputs": [
    {
     "name": "stdout",
     "output_type": "stream",
     "text": [
      "['p', 'w', 's', 'k', 'i', 'l', 'l', 's']\n"
     ]
    }
   ],
   "source": [
    "a=\"pwskills\"\n",
    "l=[]\n",
    "for i in a:\n",
    "    l.append(i)\n",
    "print(l)"
   ]
  },
  {
   "cell_type": "markdown",
   "id": "7418fa4e",
   "metadata": {},
   "source": [
    "Q8. Write a python program to check whether a given number is Palindrome or not using a while loop."
   ]
  },
  {
   "cell_type": "code",
   "execution_count": 9,
   "id": "ad302306",
   "metadata": {},
   "outputs": [
    {
     "name": "stdout",
     "output_type": "stream",
     "text": [
      "enter number12321\n",
      "number is pallindrome\n"
     ]
    }
   ],
   "source": [
    "a=int(input(\"enter number\"))\n",
    "temp=a\n",
    "num=0\n",
    "while temp>0:\n",
    "    dig=temp%10\n",
    "    num=num*10+dig\n",
    "    temp=temp//10\n",
    "if num==a:\n",
    "    print(\"number is pallindrome\")\n",
    "else:\n",
    "    print(\"number is not pallindrome\")"
   ]
  },
  {
   "cell_type": "markdown",
   "id": "34627bbc",
   "metadata": {},
   "source": [
    "Q9. Write a code to print odd numbers from 1 to 100 using list comprehension."
   ]
  },
  {
   "cell_type": "code",
   "execution_count": 10,
   "id": "7e1f3971",
   "metadata": {},
   "outputs": [
    {
     "name": "stdout",
     "output_type": "stream",
     "text": [
      "[1, 3, 5, 7, 9, 11, 13, 15, 17, 19, 21, 23, 25, 27, 29, 31, 33, 35, 37, 39, 41, 43, 45, 47, 49, 51, 53, 55, 57, 59, 61, 63, 65, 67, 69, 71, 73, 75, 77, 79, 81, 83, 85, 87, 89, 91, 93, 95, 97, 99]\n"
     ]
    }
   ],
   "source": [
    "l=[]\n",
    "for i in range(0,101):\n",
    "    if i%2!=0:\n",
    "        l.append(i)\n",
    "print(l)\n",
    "    "
   ]
  }
 ],
 "metadata": {
  "kernelspec": {
   "display_name": "Python 3 (ipykernel)",
   "language": "python",
   "name": "python3"
  },
  "language_info": {
   "codemirror_mode": {
    "name": "ipython",
    "version": 3
   },
   "file_extension": ".py",
   "mimetype": "text/x-python",
   "name": "python",
   "nbconvert_exporter": "python",
   "pygments_lexer": "ipython3",
   "version": "3.10.7"
  }
 },
 "nbformat": 4,
 "nbformat_minor": 5
}
