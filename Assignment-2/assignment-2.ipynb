{
 "cells": [
  {
   "cell_type": "markdown",
   "id": "132c0318",
   "metadata": {},
   "source": [
    "Q1. How do you comment code in Python? What are the different types of comments?"
   ]
  },
  {
   "cell_type": "markdown",
   "id": "a19edd49",
   "metadata": {},
   "source": [
    "Ans:- comments can be used for these purpose:-\n",
    "        (i)Comments can be used to explain Python code.\n",
    "        (ii)Comments can be used to make the code more readable.\n",
    "        (iii)Comments can be used to prevent execution when testing code.\n",
    "        you can also use some block of code as a comment by which code will not throw any error. \n",
    "      \n",
    "      There are two types of comments in python :\n",
    "      (i)single line comment:- comment which contain a single line is called single line comment.It should be started with # \n",
    "      (ii)multi line comment:- Comment which contain more than one line or we can say multi lines are called multi line comments. it should be enclosed within triple single quotes('''comment''') or triple double quotes(\"\"\"comment\"\"\") \n",
    "      for ex:-"
   ]
  },
  {
   "cell_type": "code",
   "execution_count": 1,
   "id": "45c92ec5",
   "metadata": {},
   "outputs": [
    {
     "data": {
      "text/plain": [
       "'it is a multi line comment\\nwhich can contain more than one line '"
      ]
     },
     "execution_count": 1,
     "metadata": {},
     "output_type": "execute_result"
    }
   ],
   "source": [
    "a=3*5    #single line comment\n",
    "\"\"\"it is a multi line comment\n",
    "which can contain more than one line \"\"\""
   ]
  },
  {
   "cell_type": "markdown",
   "id": "37c90186",
   "metadata": {},
   "source": [
    "Q2. What are variables in Python? How do you declare and assign values to variables?"
   ]
  },
  {
   "cell_type": "markdown",
   "id": "249c0010",
   "metadata": {},
   "source": [
    "Ans:-Variable are just like a container which are used to hold or store some value for ex a=6 (in this 'a' is a variable which contain a value as 2 ). variable can be decalared directly by writing the variable name. assignment oprator can be used to assign some value to that variable. There are some to declare a variable:-\n",
    "    (i)A variable can consist of upper- and lowercase letters, the digits 0-9 and the underscore character.\n",
    "    (ii)The first character of a variable cannot be a digit.\n",
    "    (iii)Keywords like if or the Boolean True are reserved and cannot be used as variable names.\n",
    "    (iv)Variables are case-sensitive; therefore x is different from X."
   ]
  },
  {
   "cell_type": "code",
   "execution_count": 2,
   "id": "607eb9f3",
   "metadata": {},
   "outputs": [],
   "source": [
    "var='sumit'       #here var is variable name then assignment operator is used which assign the value and the value is 'sumit' of type string. "
   ]
  },
  {
   "cell_type": "markdown",
   "id": "baa58dcd",
   "metadata": {},
   "source": [
    "Q3. How do you convert one data type to another in Python?"
   ]
  },
  {
   "cell_type": "markdown",
   "id": "425a5879",
   "metadata": {},
   "source": [
    "Ans:- Converting one type of variable to another type of variable is known as type conversion .\n",
    "There are two type of conversion :-\n",
    "  "
   ]
  },
  {
   "cell_type": "markdown",
   "id": "fd8c4137",
   "metadata": {},
   "source": [
    "  (i) Implicit type conversion:- it is type of conversion which takes place automatically which means user don`t have to perform covnersion system automatically do this . for ex-"
   ]
  },
  {
   "cell_type": "code",
   "execution_count": 3,
   "id": "aba6c05b",
   "metadata": {},
   "outputs": [],
   "source": [
    "a=95     # declared a variable of int type"
   ]
  },
  {
   "cell_type": "code",
   "execution_count": 4,
   "id": "5d43172d",
   "metadata": {},
   "outputs": [
    {
     "data": {
      "text/plain": [
       "int"
      ]
     },
     "execution_count": 4,
     "metadata": {},
     "output_type": "execute_result"
    }
   ],
   "source": [
    "type(a)"
   ]
  },
  {
   "cell_type": "code",
   "execution_count": 5,
   "id": "a61d0520",
   "metadata": {},
   "outputs": [],
   "source": [
    "a=95+2.4        #this calculation converts the int type variable to float type variable automatically"
   ]
  },
  {
   "cell_type": "code",
   "execution_count": 6,
   "id": "f7de3597",
   "metadata": {},
   "outputs": [
    {
     "data": {
      "text/plain": [
       "float"
      ]
     },
     "execution_count": 6,
     "metadata": {},
     "output_type": "execute_result"
    }
   ],
   "source": [
    "type(a)"
   ]
  },
  {
   "cell_type": "markdown",
   "id": "dd55ac48",
   "metadata": {},
   "source": [
    "in the above example we declared a variable of int type after which we add a floating value to it which converts that value to float type automatically. so this is a implicit type of conversion. "
   ]
  },
  {
   "cell_type": "markdown",
   "id": "e33d4644",
   "metadata": {},
   "source": [
    "(ii)explicit type conversion:- The conversion of variable whcih takes manually which means this will be performed by the user. it does not take place automatically like implicite type conversion.\n",
    "for ex:-"
   ]
  },
  {
   "cell_type": "code",
   "execution_count": 7,
   "id": "844287d3",
   "metadata": {},
   "outputs": [],
   "source": [
    "var='sumit'        #declared a value of type str "
   ]
  },
  {
   "cell_type": "code",
   "execution_count": 8,
   "id": "25b1db01",
   "metadata": {},
   "outputs": [
    {
     "data": {
      "text/plain": [
       "str"
      ]
     },
     "execution_count": 8,
     "metadata": {},
     "output_type": "execute_result"
    }
   ],
   "source": [
    "type(var)"
   ]
  },
  {
   "cell_type": "code",
   "execution_count": 9,
   "id": "022b8fed",
   "metadata": {},
   "outputs": [],
   "source": [
    "var=list(var)      #explicit type conversion which is performed by the user"
   ]
  },
  {
   "cell_type": "code",
   "execution_count": 10,
   "id": "e9aad8d0",
   "metadata": {},
   "outputs": [
    {
     "data": {
      "text/plain": [
       "list"
      ]
     },
     "execution_count": 10,
     "metadata": {},
     "output_type": "execute_result"
    }
   ],
   "source": [
    "type(var)"
   ]
  },
  {
   "cell_type": "markdown",
   "id": "728ca191",
   "metadata": {},
   "source": [
    "in the above example we declared a variable of str type after which we performed explicit type coversion to convert str type to list type variable."
   ]
  },
  {
   "cell_type": "markdown",
   "id": "e5a76c29",
   "metadata": {},
   "source": [
    "Q4. How do you write and execute a Python script from the command line?"
   ]
  },
  {
   "cell_type": "markdown",
   "id": "f356857c",
   "metadata": {},
   "source": [
    "Ans:- There are many methods to execute python file from command line-\n",
    "    "
   ]
  },
  {
   "cell_type": "markdown",
   "id": "9574189d",
   "metadata": {},
   "source": [
    "(i)directly by calling python in command line- in this you have to type python then three angular bracket (>>>) came which  means python interpreter is active now then you can execute your python code by typing line by line. \n",
    "   "
   ]
  },
  {
   "cell_type": "markdown",
   "id": "7fd19a70",
   "metadata": {},
   "source": [
    " (ii)by creating a text file of the python code with the extension of '.py' then calling in command line by 'python file_name.py' \n",
    "    by this you can execute your python code . and be sure your path should be in same directry where your .py file is situated ."
   ]
  },
  {
   "cell_type": "markdown",
   "id": "15ce4f06",
   "metadata": {},
   "source": [
    "Q5. Given a list my_list = [1, 2, 3, 4, 5], write the code to slice the list and obtain the sub-list [2, 3]."
   ]
  },
  {
   "cell_type": "code",
   "execution_count": 11,
   "id": "2d219dc9",
   "metadata": {},
   "outputs": [],
   "source": [
    "my_list = [1, 2, 3, 4, 5]"
   ]
  },
  {
   "cell_type": "code",
   "execution_count": 12,
   "id": "4d35f9e7",
   "metadata": {},
   "outputs": [
    {
     "name": "stdout",
     "output_type": "stream",
     "text": [
      "[2, 3]\n"
     ]
    }
   ],
   "source": [
    "sub_list=my_list[1:3]                 #creating a sub-list to obtain[2,3]\n",
    "print(sub_list) "
   ]
  },
  {
   "cell_type": "markdown",
   "id": "d9c03320",
   "metadata": {},
   "source": [
    "Q6. What is a complex number in mathematics, and how is it represented in Python?"
   ]
  },
  {
   "cell_type": "markdown",
   "id": "010ca3c6",
   "metadata": {},
   "source": [
    "Ans:- A Complex Number is a combination of a Real Number and an Imaginary Number. for ex : a+bi , where a is called real part and b is called imaginary part and i is an imaginary unit where i^2=-1. \n",
    "whereas in python we use 'j' at the place of 'i'(imaginary unit).\n",
    "declaring the imaginary number:"
   ]
  },
  {
   "cell_type": "code",
   "execution_count": 13,
   "id": "9046dd74",
   "metadata": {},
   "outputs": [
    {
     "name": "stdout",
     "output_type": "stream",
     "text": [
      "<class 'complex'>\n"
     ]
    }
   ],
   "source": [
    "var=4+5j        #declaration of imaginary number\n",
    "print(type(var))"
   ]
  },
  {
   "cell_type": "code",
   "execution_count": 14,
   "id": "ddb7e8ee",
   "metadata": {},
   "outputs": [
    {
     "data": {
      "text/plain": [
       "5.0"
      ]
     },
     "execution_count": 14,
     "metadata": {},
     "output_type": "execute_result"
    }
   ],
   "source": [
    "var.imag                #.imag is used to get imamginary part "
   ]
  },
  {
   "cell_type": "code",
   "execution_count": 15,
   "id": "b02e9f82",
   "metadata": {},
   "outputs": [
    {
     "data": {
      "text/plain": [
       "4.0"
      ]
     },
     "execution_count": 15,
     "metadata": {},
     "output_type": "execute_result"
    }
   ],
   "source": [
    "var.real                #.real is used to takeout the real part of the complex number"
   ]
  },
  {
   "cell_type": "markdown",
   "id": "fc4e13a2",
   "metadata": {},
   "source": [
    "so in python 4+5j is a complex number in which 4 is a real part and 5 is a imaginary part and j is the imaginary unit . in the python .imag is used to call imaginary part and .real is used to call the real part of the complex number."
   ]
  },
  {
   "cell_type": "markdown",
   "id": "1d195186",
   "metadata": {},
   "source": [
    "Q7. What is the correct way to declare a variable named age and assign the value 25 to it?"
   ]
  },
  {
   "cell_type": "code",
   "execution_count": 16,
   "id": "86461ad9",
   "metadata": {},
   "outputs": [],
   "source": [
    "age=25"
   ]
  },
  {
   "cell_type": "markdown",
   "id": "07a8dd2d",
   "metadata": {},
   "source": [
    "Q8. Declare a variable named price and assign the value 9.99 to it. What data type does this variable\n",
    "belong to?"
   ]
  },
  {
   "cell_type": "markdown",
   "id": "05783d36",
   "metadata": {},
   "source": [
    "Ans:- if we assign 9.99 to a variable then it will be float type. see in below code:"
   ]
  },
  {
   "cell_type": "code",
   "execution_count": 17,
   "id": "dbbea009",
   "metadata": {},
   "outputs": [
    {
     "name": "stdout",
     "output_type": "stream",
     "text": [
      "<class 'float'>\n"
     ]
    }
   ],
   "source": [
    "price=9.99\n",
    "print(type(price))"
   ]
  },
  {
   "cell_type": "markdown",
   "id": "c7af14be",
   "metadata": {},
   "source": [
    "Q9. Create a variable named name and assign your full name to it as a string. How would you print the\n",
    "value of this variable?"
   ]
  },
  {
   "cell_type": "code",
   "execution_count": 18,
   "id": "92d79c13",
   "metadata": {},
   "outputs": [
    {
     "name": "stdout",
     "output_type": "stream",
     "text": [
      "Sumit Verma\n"
     ]
    }
   ],
   "source": [
    "name='Sumit Verma'\n",
    "print(name)"
   ]
  },
  {
   "cell_type": "markdown",
   "id": "157351ca",
   "metadata": {},
   "source": [
    "By considering above code we observed that value will be printed by calling the variable name in print function . and print function is used to print something in the output.  "
   ]
  },
  {
   "cell_type": "markdown",
   "id": "f3e58cf8",
   "metadata": {},
   "source": [
    "Q10. Given the string \"Hello, World!\", extract the substring \"World\"."
   ]
  },
  {
   "cell_type": "code",
   "execution_count": 19,
   "id": "7aa453c6",
   "metadata": {},
   "outputs": [
    {
     "name": "stdout",
     "output_type": "stream",
     "text": [
      "World\n"
     ]
    }
   ],
   "source": [
    "var=\"Hello, World!\"\n",
    "print(var[7:12])"
   ]
  },
  {
   "cell_type": "markdown",
   "id": "f42108d8",
   "metadata": {},
   "source": [
    "Q11. Create a variable named \"is_student\" and assign it a boolean value indicating whether you are\n",
    "currently a student or not."
   ]
  },
  {
   "cell_type": "code",
   "execution_count": 20,
   "id": "02935ab3",
   "metadata": {},
   "outputs": [
    {
     "name": "stdout",
     "output_type": "stream",
     "text": [
      "you are a currently a student\n"
     ]
    }
   ],
   "source": [
    "is_student=True\n",
    "if is_student==1:\n",
    "    print(\"you are a currently a student\")\n",
    "else:\n",
    "    print(\"you are not currently a student\")"
   ]
  },
  {
   "cell_type": "code",
   "execution_count": null,
   "id": "f8dbad15",
   "metadata": {},
   "outputs": [],
   "source": []
  },
  {
   "cell_type": "code",
   "execution_count": null,
   "id": "5e2e245b",
   "metadata": {},
   "outputs": [],
   "source": []
  }
 ],
 "metadata": {
  "kernelspec": {
   "display_name": "Python 3 (ipykernel)",
   "language": "python",
   "name": "python3"
  },
  "language_info": {
   "codemirror_mode": {
    "name": "ipython",
    "version": 3
   },
   "file_extension": ".py",
   "mimetype": "text/x-python",
   "name": "python",
   "nbconvert_exporter": "python",
   "pygments_lexer": "ipython3",
   "version": "3.10.7"
  }
 },
 "nbformat": 4,
 "nbformat_minor": 5
}
