{
 "cells": [
  {
   "cell_type": "markdown",
   "id": "970e597e",
   "metadata": {},
   "source": [
    "Q1, Create a vehicle class with an init method having instance variables as name_of_vehicle, max_speed\n",
    "and average_of_vehicle."
   ]
  },
  {
   "cell_type": "code",
   "execution_count": 1,
   "id": "c7d130c6",
   "metadata": {},
   "outputs": [],
   "source": [
    "class vehicle:\n",
    "    def __init__(self,name_of_vehicle,max_speed,average_of_vehicle):\n",
    "        self.name_of_vehicle=name_of_vehicle\n",
    "        self.max_speed=max_speed\n",
    "        self.average_of_vehicle=average_of_vehicle"
   ]
  },
  {
   "cell_type": "markdown",
   "id": "e2c4337e",
   "metadata": {},
   "source": [
    "Q2. Create a child class car from the vehicle class created in Que 1, which will inherit the vehicle class.\n",
    "Create a method named seating_capacity which takes capacity as an argument and returns the name of\n",
    "the vehicle and its seating capacity."
   ]
  },
  {
   "cell_type": "code",
   "execution_count": 2,
   "id": "701980ef",
   "metadata": {},
   "outputs": [],
   "source": [
    "class car(vehicle):\n",
    "    def seating_capacity(self,capacity):\n",
    "        self.capacity=capacity\n",
    "        return name_of_vehicle , self.capacity"
   ]
  },
  {
   "cell_type": "markdown",
   "id": "e679ccfb",
   "metadata": {},
   "source": [
    "Q3. What is multiple inheritance? Write a python code to demonstrate multiple inheritance."
   ]
  },
  {
   "cell_type": "markdown",
   "id": "21377b64",
   "metadata": {},
   "source": [
    "Ans:- Multiple inheritance is a type of inheritance in which child class inherits the properties of more than one class. for example we have class A and class B then we create a class C which have the properties of both class A and class B."
   ]
  },
  {
   "cell_type": "code",
   "execution_count": 3,
   "id": "7e771835",
   "metadata": {},
   "outputs": [],
   "source": [
    "class Chef:\n",
    "    def cook(self):\n",
    "        print(\"The chef is cooking a delicious meal.\")\n",
    "\n",
    "class Guitarist:\n",
    "    def play_guitar(self):\n",
    "        print(\"The guitarist is playing the guitar.\")\n",
    "\n",
    "class Musician(Chef, Guitarist):\n",
    "    def perform(self):\n",
    "        print(\"The musician is performing on stage.\")"
   ]
  },
  {
   "cell_type": "code",
   "execution_count": 4,
   "id": "61d93757",
   "metadata": {},
   "outputs": [],
   "source": [
    "john = Musician()"
   ]
  },
  {
   "cell_type": "code",
   "execution_count": 5,
   "id": "a2f81c23",
   "metadata": {},
   "outputs": [
    {
     "name": "stdout",
     "output_type": "stream",
     "text": [
      "The chef is cooking a delicious meal.\n"
     ]
    }
   ],
   "source": [
    "john.cook()"
   ]
  },
  {
   "cell_type": "code",
   "execution_count": 6,
   "id": "5ff83a08",
   "metadata": {},
   "outputs": [
    {
     "name": "stdout",
     "output_type": "stream",
     "text": [
      "The guitarist is playing the guitar.\n"
     ]
    }
   ],
   "source": [
    "john.play_guitar()"
   ]
  },
  {
   "cell_type": "code",
   "execution_count": 7,
   "id": "7b1578b4",
   "metadata": {},
   "outputs": [
    {
     "name": "stdout",
     "output_type": "stream",
     "text": [
      "The musician is performing on stage.\n"
     ]
    }
   ],
   "source": [
    "john.perform()"
   ]
  },
  {
   "cell_type": "markdown",
   "id": "d2a6b95e",
   "metadata": {},
   "source": [
    "Q4. What are getter and setter in python? Create a class and create a getter and a setter method in this\n",
    "class."
   ]
  },
  {
   "cell_type": "markdown",
   "id": "1ccaa998",
   "metadata": {},
   "source": [
    "Ans:- Getters and setters are methods used to control access to class attributes or properties.\n",
    "Getters are used to retrieve the value of an attribute, and setters are used to set or update the value of an attribute."
   ]
  },
  {
   "cell_type": "code",
   "execution_count": 8,
   "id": "4829e0d6",
   "metadata": {},
   "outputs": [],
   "source": [
    "class Person:\n",
    "    def __init__(self):\n",
    "        self._name = None\n",
    "\n",
    "    def get_name(self):\n",
    "        return self._name\n",
    "\n",
    "    def set_name(self, name):\n",
    "        self._name = name"
   ]
  },
  {
   "cell_type": "code",
   "execution_count": 9,
   "id": "c0b47513",
   "metadata": {},
   "outputs": [],
   "source": [
    "person = Person()"
   ]
  },
  {
   "cell_type": "code",
   "execution_count": 10,
   "id": "2cb629f6",
   "metadata": {},
   "outputs": [],
   "source": [
    "person.set_name(\"John Doe\")        #setter"
   ]
  },
  {
   "cell_type": "code",
   "execution_count": 11,
   "id": "6c151efe",
   "metadata": {},
   "outputs": [
    {
     "name": "stdout",
     "output_type": "stream",
     "text": [
      "John Doe\n"
     ]
    }
   ],
   "source": [
    "name = person.get_name()          #getter\n",
    "print(name)"
   ]
  },
  {
   "cell_type": "markdown",
   "id": "02a2f9bb",
   "metadata": {},
   "source": [
    "Q5.What is method overriding in python? Write a python code to demonstrate method overriding."
   ]
  },
  {
   "cell_type": "markdown",
   "id": "884417e9",
   "metadata": {},
   "source": [
    "Ans:- Method overriding in Python occurs when a subclass defines a method with the same name as a method in its superclass. The method in the subclass overrides the implementation of the method in the superclass, allowing the subclass to provide its own implementation."
   ]
  },
  {
   "cell_type": "code",
   "execution_count": 12,
   "id": "510d9de4",
   "metadata": {},
   "outputs": [],
   "source": [
    "class currency:\n",
    "    def note(self):\n",
    "        print(\"currency is used to buy goods.\")\n",
    "\n",
    "class India(currency):\n",
    "    def note(self):\n",
    "        print(\"Rupees\")\n",
    "\n",
    "class USA(currency):\n",
    "    def note(self):\n",
    "        print(\"Dollar\")"
   ]
  },
  {
   "cell_type": "code",
   "execution_count": 13,
   "id": "a6690065",
   "metadata": {},
   "outputs": [],
   "source": [
    "nt=currency()"
   ]
  },
  {
   "cell_type": "code",
   "execution_count": 14,
   "id": "ce43f979",
   "metadata": {},
   "outputs": [
    {
     "name": "stdout",
     "output_type": "stream",
     "text": [
      "currency is used to buy goods.\n"
     ]
    }
   ],
   "source": [
    "nt.note()"
   ]
  },
  {
   "cell_type": "code",
   "execution_count": 15,
   "id": "6461c5ea",
   "metadata": {},
   "outputs": [],
   "source": [
    "ind=India()"
   ]
  },
  {
   "cell_type": "code",
   "execution_count": 16,
   "id": "fd45673b",
   "metadata": {},
   "outputs": [
    {
     "name": "stdout",
     "output_type": "stream",
     "text": [
      "Rupees\n"
     ]
    }
   ],
   "source": [
    "ind.note()"
   ]
  },
  {
   "cell_type": "code",
   "execution_count": 17,
   "id": "549acb7d",
   "metadata": {},
   "outputs": [],
   "source": [
    "usa=USA()"
   ]
  },
  {
   "cell_type": "code",
   "execution_count": 18,
   "id": "6f883c17",
   "metadata": {},
   "outputs": [
    {
     "name": "stdout",
     "output_type": "stream",
     "text": [
      "Dollar\n"
     ]
    }
   ],
   "source": [
    "usa.note()"
   ]
  }
 ],
 "metadata": {
  "kernelspec": {
   "display_name": "Python 3 (ipykernel)",
   "language": "python",
   "name": "python3"
  },
  "language_info": {
   "codemirror_mode": {
    "name": "ipython",
    "version": 3
   },
   "file_extension": ".py",
   "mimetype": "text/x-python",
   "name": "python",
   "nbconvert_exporter": "python",
   "pygments_lexer": "ipython3",
   "version": "3.10.7"
  }
 },
 "nbformat": 4,
 "nbformat_minor": 5
}
